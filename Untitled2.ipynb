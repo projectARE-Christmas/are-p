{
 "cells": [
  {
   "cell_type": "code",
   "execution_count": null,
   "metadata": {},
   "outputs": [],
   "source": [
    "def update_populations_with_migrations(Z,P,M):\n",
    "    '''\n",
    "    set[int]*dict[str:dict[int:float]*dict[tuple(str,str):float]->dict[str:float]\n",
    "    '''\n",
    "    Z_new = {}\n",
    "    Z_new['A']=Z['A']*(1-M[('A','B')]-M[('A','C')])+Z['B']*M[('B','A')]+Z['C']*M[('C','A')]\n",
    "    Z_new['B']=Z['B']*(1-M[('B','A')]-M[('B','C')])+Z['A']*M[('A','B')]+Z['C']*M[('C','B')]\n",
    "    Z_new['C']=Z['C']*(1-M[('C','B')]-M[('C','A')])+Z['A']*M[('A','C')]+Z['B']*M[('B','C')]\n",
    "    return Z_new"
   ]
  },
  {
   "cell_type": "code",
   "execution_count": null,
   "metadata": {},
   "outputs": [],
   "source": [
    "#Nous utiliserons les paramètres suivants.\n",
    "\n",
    "p = {0 : 0.4,\n",
    "     1 : 0.3,\n",
    "     2 : 0.2,\n",
    "     3 : 0.1} # Number of descendants\n",
    "np.testing.assert_almost_equal(sum(p.values()),1)\n",
    "\n",
    "P = {'A' : p,\n",
    "     'B' : p,\n",
    "     'C' : p} # Galton Watson parameter on each island\n",
    "\n",
    "Z0 = {'A' : 40,\n",
    "     'B' : 1000,\n",
    "     'C' : 400} #Initial Population\n",
    "\n",
    "M = {('A','B') : 0.02, # Migration ratio from island 'A' to island 'B'\n",
    "     ('B','A') : 0.02,\n",
    "     ('A','C') : 0.05,\n",
    "     ('C','A') : 0.05,\n",
    "     ('B','C') : 0.01,\n",
    "     ('C','B') : 0.01}\n",
    "\n",
    "n = 10 #Number of generations"
   ]
  },
  {
   "cell_type": "code",
   "execution_count": null,
   "metadata": {},
   "outputs": [],
   "source": [
    "def update_populations_with_migrations(Z,P,M):\n",
    "    '''\n",
    "    set[int]*dict[str:dict[int:float]*dict[tuple(str,str):float]->dict[str:float]\n",
    "    '''\n",
    "    Z_new = {}\n",
    "    Z_new['A']=Z['A']*(1-M[('A','B')]-M[('A','C')])+Z['B']*M[('B','A')]+Z['C']*M[('C','A')]\n",
    "    Z_new['B']=Z['B']*(1-M[('B','A')]-M[('B','C')])+Z['A']*M[('A','B')]+Z['C']*M[('C','B')]\n",
    "    Z_new['C']=Z['C']*(1-M[('C','B')]-M[('C','A')])+Z['A']*M[('A','C')]+Z['B']*M[('B','C')]\n",
    "    return Z_new"
   ]
  },
  {
   "cell_type": "code",
   "execution_count": null,
   "metadata": {},
   "outputs": [],
   "source": []
  }
 ],
 "metadata": {
  "kernelspec": {
   "display_name": "Python 3",
   "language": "python",
   "name": "python3"
  },
  "language_info": {
   "codemirror_mode": {
    "name": "ipython",
    "version": 3
   },
   "file_extension": ".py",
   "mimetype": "text/x-python",
   "name": "python",
   "nbconvert_exporter": "python",
   "pygments_lexer": "ipython3",
   "version": "3.5.3"
  }
 },
 "nbformat": 4,
 "nbformat_minor": 2
}
